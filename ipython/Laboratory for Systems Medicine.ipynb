{
 "cells": [
  {
   "cell_type": "markdown",
   "metadata": {},
   "source": [
    "# Laboratory for Systems Medicine Challenge\n",
    "by Tianxing Ma (Lisa)\n",
    "\n",
    "[Data Preparation](#Data-Preparation)\n",
    "* [Categorizing ICD Codes](#Categorizing-ICD-Codes)\n",
    "* [Calculating Comordity Scores](#Calculating-Comordity-Scores)\n",
    "* [Obtaining Patient Information from Notes](Obtaining-Patient-Information-from-Notes)\n",
    "\n",
    "[Tableau Visualization](#Tableau-Visualization)\n",
    "* [Part I: Demographics](#Part-I:-Demographics)\n",
    "* [Part II: Length of Stay](#Part-II:-Length-of-Stay)\n",
    "\n",
    "[Creating Other Datasets](#Creating-Other-Datasets)\n",
    "\n",
    "[Other Data Exploration](#Other-Data-Exploration)\n"
   ]
  },
  {
   "cell_type": "code",
   "execution_count": 1,
   "metadata": {
    "collapsed": true
   },
   "outputs": [],
   "source": [
    "%matplotlib inline\n",
    "import numpy as np\n",
    "import scipy as sp\n",
    "import matplotlib as mpl\n",
    "import matplotlib.cm as cm\n",
    "import matplotlib.pyplot as plt\n",
    "import pandas as pd\n",
    "pd.set_option('display.width', 500)\n",
    "pd.set_option('display.max_columns', 100)\n",
    "pd.set_option('display.notebook_repr_html', True)\n",
    "import seaborn as sns\n",
    "import math\n",
    "import itertools\n",
    "sns.set_style(\"whitegrid\")\n",
    "sns.set_context(\"poster\")\n",
    "import re\n",
    "import csv"
   ]
  },
  {
   "cell_type": "markdown",
   "metadata": {},
   "source": [
    "## Data Preparation"
   ]
  },
  {
   "cell_type": "code",
   "execution_count": 2,
   "metadata": {
    "collapsed": false
   },
   "outputs": [
    {
     "data": {
      "text/html": [
       "<div>\n",
       "<table border=\"1\" class=\"dataframe\">\n",
       "  <thead>\n",
       "    <tr style=\"text-align: right;\">\n",
       "      <th></th>\n",
       "      <th>empi</th>\n",
       "      <th>name</th>\n",
       "      <th>gender</th>\n",
       "      <th>date_of_birth</th>\n",
       "      <th>age</th>\n",
       "      <th>race</th>\n",
       "      <th>vital_status</th>\n",
       "      <th>date_of_death</th>\n",
       "    </tr>\n",
       "  </thead>\n",
       "  <tbody>\n",
       "    <tr>\n",
       "      <th>0</th>\n",
       "      <td>742415486</td>\n",
       "      <td>Ms.Baudoin</td>\n",
       "      <td>female</td>\n",
       "      <td>1937-08-07</td>\n",
       "      <td>77</td>\n",
       "      <td>Black-BLACK</td>\n",
       "      <td>NaN</td>\n",
       "      <td>NaN</td>\n",
       "    </tr>\n",
       "    <tr>\n",
       "      <th>1</th>\n",
       "      <td>746287608</td>\n",
       "      <td>Ms.Koo</td>\n",
       "      <td>female</td>\n",
       "      <td>1983-04-21</td>\n",
       "      <td>31</td>\n",
       "      <td>White-WHITE</td>\n",
       "      <td>NaN</td>\n",
       "      <td>NaN</td>\n",
       "    </tr>\n",
       "    <tr>\n",
       "      <th>2</th>\n",
       "      <td>415900342</td>\n",
       "      <td>Ms.Shurtleff</td>\n",
       "      <td>female</td>\n",
       "      <td>1918-03-11</td>\n",
       "      <td>96</td>\n",
       "      <td>White-WHITE</td>\n",
       "      <td>NaN</td>\n",
       "      <td>NaN</td>\n",
       "    </tr>\n",
       "    <tr>\n",
       "      <th>3</th>\n",
       "      <td>967071533</td>\n",
       "      <td>Ms.Mukai</td>\n",
       "      <td>female</td>\n",
       "      <td>1947-04-01</td>\n",
       "      <td>67</td>\n",
       "      <td>Black-BLACK</td>\n",
       "      <td>NaN</td>\n",
       "      <td>NaN</td>\n",
       "    </tr>\n",
       "    <tr>\n",
       "      <th>4</th>\n",
       "      <td>679830259</td>\n",
       "      <td>Ms.Haapala</td>\n",
       "      <td>female</td>\n",
       "      <td>1967-02-03</td>\n",
       "      <td>47</td>\n",
       "      <td>Black-BLACK</td>\n",
       "      <td>NaN</td>\n",
       "      <td>NaN</td>\n",
       "    </tr>\n",
       "  </tbody>\n",
       "</table>\n",
       "</div>"
      ],
      "text/plain": [
       "        empi          name  gender date_of_birth  age         race vital_status date_of_death\n",
       "0  742415486    Ms.Baudoin  female    1937-08-07   77  Black-BLACK          NaN           NaN\n",
       "1  746287608        Ms.Koo  female    1983-04-21   31  White-WHITE          NaN           NaN\n",
       "2  415900342  Ms.Shurtleff  female    1918-03-11   96  White-WHITE          NaN           NaN\n",
       "3  967071533      Ms.Mukai  female    1947-04-01   67  Black-BLACK          NaN           NaN\n",
       "4  679830259    Ms.Haapala  female    1967-02-03   47  Black-BLACK          NaN           NaN"
      ]
     },
     "execution_count": 2,
     "metadata": {},
     "output_type": "execute_result"
    }
   ],
   "source": [
    "## demographics dataset\n",
    "dem=pd.read_csv(\"data/dem.csv\")\n",
    "dem.head()"
   ]
  },
  {
   "cell_type": "code",
   "execution_count": 3,
   "metadata": {
    "collapsed": false
   },
   "outputs": [
    {
     "data": {
      "text/html": [
       "<div>\n",
       "<table border=\"1\" class=\"dataframe\">\n",
       "  <thead>\n",
       "    <tr style=\"text-align: right;\">\n",
       "      <th></th>\n",
       "      <th>empi</th>\n",
       "      <th>dia_date</th>\n",
       "      <th>dia_code</th>\n",
       "      <th>dia_name</th>\n",
       "      <th>provider</th>\n",
       "      <th>dia_flag</th>\n",
       "      <th>inpatient_outpatient</th>\n",
       "    </tr>\n",
       "  </thead>\n",
       "  <tbody>\n",
       "    <tr>\n",
       "      <th>0</th>\n",
       "      <td>412857024</td>\n",
       "      <td>2012-04-01</td>\n",
       "      <td>291.2</td>\n",
       "      <td>Alcohol-induced persisting dementia</td>\n",
       "      <td>Hosseini, Ahmad, M.D.</td>\n",
       "      <td>admitting</td>\n",
       "      <td>inpatient</td>\n",
       "    </tr>\n",
       "    <tr>\n",
       "      <th>1</th>\n",
       "      <td>733570627</td>\n",
       "      <td>2011-12-07</td>\n",
       "      <td>260</td>\n",
       "      <td>Kwashiorkor</td>\n",
       "      <td>Hansen, Michael, M.D.</td>\n",
       "      <td>primary</td>\n",
       "      <td>outpatient</td>\n",
       "    </tr>\n",
       "    <tr>\n",
       "      <th>2</th>\n",
       "      <td>838754425</td>\n",
       "      <td>2013-06-23</td>\n",
       "      <td>416</td>\n",
       "      <td>Chronic pulmonary heart disease</td>\n",
       "      <td>Hansen, Michael, M.D.</td>\n",
       "      <td>admitting</td>\n",
       "      <td>inpatient</td>\n",
       "    </tr>\n",
       "    <tr>\n",
       "      <th>3</th>\n",
       "      <td>546413564</td>\n",
       "      <td>2010-12-11</td>\n",
       "      <td>729.1</td>\n",
       "      <td>Mylagia and myositis, unspecified</td>\n",
       "      <td>Dirichlet, Amir, M.D.</td>\n",
       "      <td>admitting</td>\n",
       "      <td>inpatient</td>\n",
       "    </tr>\n",
       "    <tr>\n",
       "      <th>4</th>\n",
       "      <td>452148563</td>\n",
       "      <td>2008-07-29</td>\n",
       "      <td>272.4</td>\n",
       "      <td>Other and unspecified hyperlipidemia</td>\n",
       "      <td>Armstrong, Sebastian, M.D.</td>\n",
       "      <td>NaN</td>\n",
       "      <td>outpatient</td>\n",
       "    </tr>\n",
       "  </tbody>\n",
       "</table>\n",
       "</div>"
      ],
      "text/plain": [
       "        empi    dia_date dia_code                              dia_name                    provider   dia_flag inpatient_outpatient\n",
       "0  412857024  2012-04-01    291.2   Alcohol-induced persisting dementia       Hosseini, Ahmad, M.D.  admitting            inpatient\n",
       "1  733570627  2011-12-07      260                           Kwashiorkor       Hansen, Michael, M.D.    primary           outpatient\n",
       "2  838754425  2013-06-23      416       Chronic pulmonary heart disease       Hansen, Michael, M.D.  admitting            inpatient\n",
       "3  546413564  2010-12-11    729.1     Mylagia and myositis, unspecified       Dirichlet, Amir, M.D.  admitting            inpatient\n",
       "4  452148563  2008-07-29    272.4  Other and unspecified hyperlipidemia  Armstrong, Sebastian, M.D.        NaN           outpatient"
      ]
     },
     "execution_count": 3,
     "metadata": {},
     "output_type": "execute_result"
    }
   ],
   "source": [
    "## diagnosis dataset\n",
    "dia=pd.read_csv(\"data/dia.csv\")\n",
    "dia.head()"
   ]
  },
  {
   "cell_type": "code",
   "execution_count": 4,
   "metadata": {
    "collapsed": true
   },
   "outputs": [],
   "source": [
    "## creating a clean race variable\n",
    "dem['race_clean'] = dem['race']\n",
    "dem['race_clean'] = dem['race_clean'].str.replace(\"Black-BLACK\", \"Black\")\n",
    "dem['race_clean'] = dem['race_clean'].str.replace(\"BLACK OR AFRICAN AMERICAN\", \"Black\")\n",
    "dem['race_clean'] = dem['race_clean'].str.replace(\"White-WHITE\", \"White\")\n",
    "dem['race_clean'] = dem['race_clean'].str.replace(\"Asian-ASIAN\", \"Asian\")\n",
    "dem['race_clean'] = dem['race_clean'].str.replace(\"Hispanic-HISPANIC\", \"Hispanic\")\n",
    "dem['race_clean'] = dem['race_clean'].str.replace(\"American Indian-AMERICAN INDIAN\", \"American Indian\")"
   ]
  },
  {
   "cell_type": "code",
   "execution_count": 5,
   "metadata": {
    "collapsed": false
   },
   "outputs": [
    {
     "data": {
      "text/html": [
       "<div>\n",
       "<table border=\"1\" class=\"dataframe\">\n",
       "  <thead>\n",
       "    <tr style=\"text-align: right;\">\n",
       "      <th></th>\n",
       "      <th>empi</th>\n",
       "      <th>name</th>\n",
       "      <th>gender</th>\n",
       "      <th>date_of_birth</th>\n",
       "      <th>age</th>\n",
       "      <th>race</th>\n",
       "      <th>vital_status</th>\n",
       "      <th>date_of_death</th>\n",
       "      <th>race_clean</th>\n",
       "    </tr>\n",
       "  </thead>\n",
       "  <tbody>\n",
       "    <tr>\n",
       "      <th>0</th>\n",
       "      <td>742415486</td>\n",
       "      <td>Ms.Baudoin</td>\n",
       "      <td>female</td>\n",
       "      <td>1937-08-07</td>\n",
       "      <td>77</td>\n",
       "      <td>Black-BLACK</td>\n",
       "      <td>living</td>\n",
       "      <td>NaN</td>\n",
       "      <td>Black</td>\n",
       "    </tr>\n",
       "    <tr>\n",
       "      <th>1</th>\n",
       "      <td>746287608</td>\n",
       "      <td>Ms.Koo</td>\n",
       "      <td>female</td>\n",
       "      <td>1983-04-21</td>\n",
       "      <td>31</td>\n",
       "      <td>White-WHITE</td>\n",
       "      <td>living</td>\n",
       "      <td>NaN</td>\n",
       "      <td>White</td>\n",
       "    </tr>\n",
       "    <tr>\n",
       "      <th>2</th>\n",
       "      <td>415900342</td>\n",
       "      <td>Ms.Shurtleff</td>\n",
       "      <td>female</td>\n",
       "      <td>1918-03-11</td>\n",
       "      <td>96</td>\n",
       "      <td>White-WHITE</td>\n",
       "      <td>living</td>\n",
       "      <td>NaN</td>\n",
       "      <td>White</td>\n",
       "    </tr>\n",
       "    <tr>\n",
       "      <th>3</th>\n",
       "      <td>967071533</td>\n",
       "      <td>Ms.Mukai</td>\n",
       "      <td>female</td>\n",
       "      <td>1947-04-01</td>\n",
       "      <td>67</td>\n",
       "      <td>Black-BLACK</td>\n",
       "      <td>living</td>\n",
       "      <td>NaN</td>\n",
       "      <td>Black</td>\n",
       "    </tr>\n",
       "    <tr>\n",
       "      <th>4</th>\n",
       "      <td>679830259</td>\n",
       "      <td>Ms.Haapala</td>\n",
       "      <td>female</td>\n",
       "      <td>1967-02-03</td>\n",
       "      <td>47</td>\n",
       "      <td>Black-BLACK</td>\n",
       "      <td>living</td>\n",
       "      <td>NaN</td>\n",
       "      <td>Black</td>\n",
       "    </tr>\n",
       "  </tbody>\n",
       "</table>\n",
       "</div>"
      ],
      "text/plain": [
       "        empi          name  gender date_of_birth  age         race vital_status date_of_death race_clean\n",
       "0  742415486    Ms.Baudoin  female    1937-08-07   77  Black-BLACK       living           NaN      Black\n",
       "1  746287608        Ms.Koo  female    1983-04-21   31  White-WHITE       living           NaN      White\n",
       "2  415900342  Ms.Shurtleff  female    1918-03-11   96  White-WHITE       living           NaN      White\n",
       "3  967071533      Ms.Mukai  female    1947-04-01   67  Black-BLACK       living           NaN      Black\n",
       "4  679830259    Ms.Haapala  female    1967-02-03   47  Black-BLACK       living           NaN      Black"
      ]
     },
     "execution_count": 5,
     "metadata": {},
     "output_type": "execute_result"
    }
   ],
   "source": [
    "## cleaning vital_status\n",
    "dem[\"vital_status\"] = dem[\"vital_status\"].fillna(\"living\")\n",
    "dem.head()"
   ]
  },
  {
   "cell_type": "markdown",
   "metadata": {},
   "source": [
    "### Categorizing ICD Codes"
   ]
  },
  {
   "cell_type": "code",
   "execution_count": 6,
   "metadata": {
    "collapsed": false,
    "scrolled": true
   },
   "outputs": [
    {
     "name": "stdout",
     "output_type": "stream",
     "text": [
      "CPU times: user 1.12 s, sys: 19.1 ms, total: 1.14 s\n",
      "Wall time: 1.25 s\n"
     ]
    }
   ],
   "source": [
    "%%time\n",
    "\n",
    "## creating a new category variable \"disease\" from given supplementary code\n",
    "dia['disease'] = \"\"\n",
    "\n",
    "for index, row in dia.iterrows():\n",
    "    ICD = row[\"dia_code\"]\n",
    "    \n",
    "    if (ICD[:3] == '196') | (ICD[:3] == '197') | (ICD[:3] == '198') | (ICD[:3] == '199'):\n",
    "        dia.loc[index,\"disease\"] = \"metastatic_romano\"\n",
    "        \n",
    "    elif (ICD == '40201') | (ICD == '40211') | (ICD == '40291') \\\n",
    "    | (ICD[:4] == '4293') | (ICD[:3] == '425') | (ICD[:3] == '428'):\n",
    "        dia.loc[index,\"disease\"] = \"chf_romano\"\n",
    "        \n",
    "    elif (ICD[:4] == '3310') | (ICD[:4] == '3311') | (ICD[:4] == '3312') | (ICD[:3] == '290'):\n",
    "        dia.loc[index,\"disease\"] = \"dementia_romano\"\n",
    "        \n",
    "    elif (ICD == '40311') |  (ICD == '40391') | (ICD == '40412') | (ICD == '40492') \\\n",
    "    | (ICD[:3] == '585') | (ICD[:3] == '586') \\\n",
    "    | (ICD[:4] == 'V420') | (ICD[:4] == 'V451') |(ICD[:4] == 'V560') | (ICD[:4] == 'V568'):\n",
    "        dia.loc[index,\"disease\"] = \"renal_elixhauser\"\n",
    "        \n",
    "    elif '260' <= ICD[:3] <= '263':\n",
    "        dia.loc[index,\"disease\"] = 'wtloss_elixhauser'\n",
    "        \n",
    "    elif (ICD[:3] == '342') | (ICD[:3] == '344'):\n",
    "        dia.loc[index,\"disease\"] = 'hemiplegia_romano'\n",
    "        \n",
    "    elif (ICD[:4] == '2911') | (ICD[:4] == '2912') |(ICD[:4] == '2915') | (ICD[:4] == '2918') \\\n",
    "    | (ICD[:4] == '2919') | ('30390' <= ICD <= '30393') | ('30500' <= ICD <= '30503') \\\n",
    "    | (ICD[:4] == 'V113'):\n",
    "        dia.loc[index,\"disease\"] = 'alcohol_elixhauser'\n",
    "        \n",
    "    elif ('140' <= ICD[:3] <= '171') | ('174' <= ICD[:3] <= '195') \\\n",
    "    | (ICD[:4] == '2730') | (ICD[:4] == '2733') | (ICD[:4] == '2911') | (ICD[:5] == 'V1046')\\\n",
    "    | ('200' <= ICD[:3] <= '208'):\n",
    "        dia.loc[index,\"disease\"] = 'tumor_romano'\n",
    "        \n",
    "    elif (ICD == '42610') | (ICD == '42611') | (ICD == '42613')\\\n",
    "    | ('4262' <= ICD[:4] <= '4264') | ('42650' <= ICD <= '42653') | ('4266' <= ICD[:4]  <= '4268')\\\n",
    "    | (ICD[:4] == '4270') | (ICD[:4] == '4272') | (ICD == '42731') | (ICD == '42760') | (ICD[:4] == '4279')\\\n",
    "    | (ICD[:4] == '7850') | (ICD[:4] == 'V450') | (ICD[:4] == 'V533'):\n",
    "        dia.loc[index,\"disease\"] = 'arrhythmia_elixhauser'\n",
    "        \n",
    "    elif (ICD[:4] == '4150') | (ICD[:4] == '4168') | (ICD[:4] == '4169') | (ICD[:3] == '491')\\\n",
    "    | (ICD[:3] == '492') |  (ICD[:3] == '493') | (ICD[:3] == '494') | (ICD[:3] == '496'):\n",
    "        dia.loc[index,\"disease\"] = 'pulmonarydz_romano'\n",
    "\n",
    "    elif ('2860' <= ICD[:4] <= '2869') | (ICD[:4] == '2871') | ('2873' <= ICD[:4] <= '2875'):\n",
    "        dia.loc[index,\"disease\"] = 'coagulopathy_elixhauser'\n",
    "\n",
    "    elif ('25040' <= ICD <= '25073') | ('25090' <= ICD <= '25093'):\n",
    "        dia.loc[index,\"disease\"] = 'compdiabetes_elixhauser'\n",
    "        \n",
    "    elif ('2801' <= ICD[:4] <= '2819')|(ICD[:4] == '2859'): \n",
    "        dia[\"disease\"].iloc[index] = 'anemia_elixhauser'\n",
    "        \n",
    "    elif ('2760' <= ICD[:4] <= '2769'):\n",
    "        dia.loc[index,\"disease\"] = 'electrolytes_elixhauser'\n",
    "        \n",
    "    elif (ICD == '07032') | (ICD == '07033') | (ICD == '07054') | (ICD[:4] == '4560') | (ICD[:4] == '4561')\\\n",
    "    | (ICD == '45620') | (ICD == '45621') | (ICD[:4] == '5710') | (ICD[:4] == '5712')\\\n",
    "    | (ICD[:4] == '5713') | ('57140' <= ICD <= '57149') | (ICD[:4] == '5715')\\\n",
    "    | (ICD[:4] == '5716') | (ICD[:4] == '5718') | (ICD[:4] == '5719') | (ICD[:4] == '5723') | (ICD[:4] == '5728') | (ICD[:4] == 'V427'):\n",
    "        dia.loc[index,\"disease\"] = 'liver_elixhauser'\n",
    "        \n",
    "    elif ('4400' <=ICD[:4] <= '4409') | (ICD[:4] == '4412') | (ICD[:4] == '4414') | (ICD[:4] == '4417') | (ICD[:4] == '4419')\\\n",
    "    | ('4431' <= ICD[:4] <= '4439') | (ICD[:4] == '4471') | (ICD[:4] == '5571') | (ICD[:4] == '5579') | (ICD[:4] == 'V434'):\n",
    "        dia.loc[index,\"disease\"] = 'pvd_elixhauser'\n",
    "\n",
    "    elif ('29500' <= ICD <= '29899') | (ICD == '29910') | (ICD == '29911'):\n",
    "        dia.loc[index,\"disease\"] = 'psychosis_elixhauser'\n",
    "        \n",
    "    elif (ICD[:3] == '416') | (ICD[:4] == '4179'):\n",
    "        dia.loc[index,\"disease\"] = 'pulmcirc_elixhauser'\n",
    "        \n",
    "    elif (ICD[:3] == '042') | (ICD[:3] == '043') | (ICD[:3] == '044'):\n",
    "        dia.loc[index,\"disease\"] = 'hivaids_romano'\n",
    "        \n",
    "    elif (ICD[:4] == '4011') | (ICD[:4] == '4019') | (ICD == '40210') | (ICD == '40290') | (ICD == '40410')\\\n",
    "    | (ICD == '40490') | (ICD == '40511' )| (ICD == '40519' )| (ICD == '40591') | (ICD == '40599'):\n",
    "        dia.loc[index,\"disease\"] = 'hypertension_elixhauser'"
   ]
  },
  {
   "cell_type": "code",
   "execution_count": 7,
   "metadata": {
    "collapsed": false
   },
   "outputs": [
    {
     "name": "stdout",
     "output_type": "stream",
     "text": [
      "1261 5893\n"
     ]
    }
   ],
   "source": [
    "## seeing how many entries have been categorized\n",
    "print len(dia[dia[\"disease\"] != \"\"]), len(dia)"
   ]
  },
  {
   "cell_type": "markdown",
   "metadata": {},
   "source": [
    "Not having most of the entries categorized makes certain later analyses difficult."
   ]
  },
  {
   "cell_type": "code",
   "execution_count": 8,
   "metadata": {
    "collapsed": false,
    "scrolled": false
   },
   "outputs": [
    {
     "name": "stdout",
     "output_type": "stream",
     "text": [
      "CPU times: user 422 ms, sys: 4.39 ms, total: 426 ms\n",
      "Wall time: 447 ms\n"
     ]
    }
   ],
   "source": [
    "%%time\n",
    "## new indicator variables for \"disease\" on the patient level\n",
    "\n",
    "dem['wtloss_elixhauser'] = 0\n",
    "dem['pulmcirc_elixhauser'] = 0\n",
    "dem['metastatic_romano'] = 0\n",
    "dem['tumor_romano'] = 0\n",
    "dem['hemiplegia_romano'] = 0\n",
    "dem['psychosis_elixhauser'] = 0\n",
    "dem['pvd_elixhauser'] = 0\n",
    "dem['electrolytes_elixhauser'] = 0\n",
    "dem['coagulopathy_elixhauser'] = 0\n",
    "dem['hivaids_romano'] = 0\n",
    "dem['pulmonarydz_romano'] = 0\n",
    "dem['chf_romano'] = 0\n",
    "\n",
    "wt = dia[dia['disease'] == 'wtloss_elixhauser'][\"empi\"].unique()\n",
    "pul = dia[dia['disease'] == 'pulmcirc_elixhauser'][\"empi\"].unique()\n",
    "meta = dia[dia['disease'] == 'metastatic_romano'][\"empi\"].unique()\n",
    "tumor = dia[dia['disease'] == 'tumor_romano'][\"empi\"].unique()\n",
    "hemi = dia[dia['disease'] == 'hemiplegia_romano'][\"empi\"].unique()\n",
    "psych = dia[dia['disease'] == 'psychosis_elixhauser'][\"empi\"].unique()\n",
    "pvd = dia[dia['disease'] == 'pvd_elixhauser'][\"empi\"].unique()\n",
    "electro = dia[dia['disease'] == 'electrolytes_elixhauser'][\"empi\"].unique()\n",
    "coag = dia[dia['disease'] == 'coagulopathy_elixhauser'][\"empi\"].unique()\n",
    "hiv = dia[dia['disease'] == 'hivaids_romano'][\"empi\"].unique()\n",
    "pulmo = dia[dia['disease'] == 'pulmonarydz_romano'][\"empi\"].unique()\n",
    "chf = dia[dia['disease'] == 'chf_romano'][\"empi\"].unique()\n",
    "\n",
    "for index, row in dem.iterrows():\n",
    "    if row[\"empi\"] in wt:\n",
    "        dem.loc[index,\"wtloss_elixhauser\"] = 1\n",
    "    if row[\"empi\"] in pul:\n",
    "        dem.loc[index,\"pulmcirc_elixhauser\"] = 1\n",
    "    if row[\"empi\"] in meta:\n",
    "        dem.loc[index,\"metastatic_romano\"] = 1\n",
    "    if row[\"empi\"] in tumor:\n",
    "        dem.loc[index,\"tumor_romano\"] = 1\n",
    "    if row[\"empi\"] in hemi:\n",
    "        dem.loc[index,\"hemiplegia_romano\"] = 1\n",
    "    if row[\"empi\"] in psych:\n",
    "        dem.loc[index,\"psychosis_elixhauser\"] = 1\n",
    "    if row[\"empi\"] in pvd:\n",
    "        dem.loc[index,\"pvd_elixhauser\"] = 1\n",
    "    if row[\"empi\"] in electro:\n",
    "        dem.loc[index,\"electrolytes_elixhauser\"] = 1\n",
    "    if row[\"empi\"] in coag:\n",
    "        dem.loc[index,\"coagulopathy_elixhauser\"] = 1\n",
    "    if row[\"empi\"] in hiv:\n",
    "        dem.loc[index,\"hivaids_romano\"] = 1\n",
    "    if row[\"empi\"] in pulmo:\n",
    "        dem.loc[index,\"pulmonarydz_romano\"] = 1\n",
    "    if row[\"empi\"] in chf:\n",
    "        dem.loc[index,\"chf_romano\"] = 1"
   ]
  },
  {
   "cell_type": "code",
   "execution_count": 9,
   "metadata": {
    "collapsed": false,
    "scrolled": true
   },
   "outputs": [
    {
     "data": {
      "text/html": [
       "<div>\n",
       "<table border=\"1\" class=\"dataframe\">\n",
       "  <thead>\n",
       "    <tr style=\"text-align: right;\">\n",
       "      <th></th>\n",
       "      <th>empi</th>\n",
       "      <th>name</th>\n",
       "      <th>gender</th>\n",
       "      <th>date_of_birth</th>\n",
       "      <th>age</th>\n",
       "      <th>race</th>\n",
       "      <th>vital_status</th>\n",
       "      <th>date_of_death</th>\n",
       "      <th>race_clean</th>\n",
       "      <th>wtloss_elixhauser</th>\n",
       "      <th>pulmcirc_elixhauser</th>\n",
       "      <th>metastatic_romano</th>\n",
       "      <th>tumor_romano</th>\n",
       "      <th>hemiplegia_romano</th>\n",
       "      <th>psychosis_elixhauser</th>\n",
       "      <th>pvd_elixhauser</th>\n",
       "      <th>electrolytes_elixhauser</th>\n",
       "      <th>coagulopathy_elixhauser</th>\n",
       "      <th>hivaids_romano</th>\n",
       "      <th>pulmonarydz_romano</th>\n",
       "      <th>chf_romano</th>\n",
       "    </tr>\n",
       "  </thead>\n",
       "  <tbody>\n",
       "    <tr>\n",
       "      <th>0</th>\n",
       "      <td>742415486</td>\n",
       "      <td>Ms.Baudoin</td>\n",
       "      <td>female</td>\n",
       "      <td>1937-08-07</td>\n",
       "      <td>77</td>\n",
       "      <td>Black-BLACK</td>\n",
       "      <td>living</td>\n",
       "      <td>NaN</td>\n",
       "      <td>Black</td>\n",
       "      <td>1</td>\n",
       "      <td>0</td>\n",
       "      <td>0</td>\n",
       "      <td>1</td>\n",
       "      <td>0</td>\n",
       "      <td>0</td>\n",
       "      <td>0</td>\n",
       "      <td>1</td>\n",
       "      <td>0</td>\n",
       "      <td>0</td>\n",
       "      <td>0</td>\n",
       "      <td>1</td>\n",
       "    </tr>\n",
       "    <tr>\n",
       "      <th>1</th>\n",
       "      <td>746287608</td>\n",
       "      <td>Ms.Koo</td>\n",
       "      <td>female</td>\n",
       "      <td>1983-04-21</td>\n",
       "      <td>31</td>\n",
       "      <td>White-WHITE</td>\n",
       "      <td>living</td>\n",
       "      <td>NaN</td>\n",
       "      <td>White</td>\n",
       "      <td>0</td>\n",
       "      <td>0</td>\n",
       "      <td>0</td>\n",
       "      <td>1</td>\n",
       "      <td>0</td>\n",
       "      <td>0</td>\n",
       "      <td>0</td>\n",
       "      <td>1</td>\n",
       "      <td>0</td>\n",
       "      <td>0</td>\n",
       "      <td>0</td>\n",
       "      <td>0</td>\n",
       "    </tr>\n",
       "    <tr>\n",
       "      <th>2</th>\n",
       "      <td>415900342</td>\n",
       "      <td>Ms.Shurtleff</td>\n",
       "      <td>female</td>\n",
       "      <td>1918-03-11</td>\n",
       "      <td>96</td>\n",
       "      <td>White-WHITE</td>\n",
       "      <td>living</td>\n",
       "      <td>NaN</td>\n",
       "      <td>White</td>\n",
       "      <td>1</td>\n",
       "      <td>0</td>\n",
       "      <td>1</td>\n",
       "      <td>1</td>\n",
       "      <td>1</td>\n",
       "      <td>0</td>\n",
       "      <td>1</td>\n",
       "      <td>1</td>\n",
       "      <td>1</td>\n",
       "      <td>0</td>\n",
       "      <td>0</td>\n",
       "      <td>0</td>\n",
       "    </tr>\n",
       "    <tr>\n",
       "      <th>3</th>\n",
       "      <td>967071533</td>\n",
       "      <td>Ms.Mukai</td>\n",
       "      <td>female</td>\n",
       "      <td>1947-04-01</td>\n",
       "      <td>67</td>\n",
       "      <td>Black-BLACK</td>\n",
       "      <td>living</td>\n",
       "      <td>NaN</td>\n",
       "      <td>Black</td>\n",
       "      <td>0</td>\n",
       "      <td>0</td>\n",
       "      <td>0</td>\n",
       "      <td>1</td>\n",
       "      <td>0</td>\n",
       "      <td>0</td>\n",
       "      <td>0</td>\n",
       "      <td>0</td>\n",
       "      <td>0</td>\n",
       "      <td>0</td>\n",
       "      <td>0</td>\n",
       "      <td>1</td>\n",
       "    </tr>\n",
       "    <tr>\n",
       "      <th>4</th>\n",
       "      <td>679830259</td>\n",
       "      <td>Ms.Haapala</td>\n",
       "      <td>female</td>\n",
       "      <td>1967-02-03</td>\n",
       "      <td>47</td>\n",
       "      <td>Black-BLACK</td>\n",
       "      <td>living</td>\n",
       "      <td>NaN</td>\n",
       "      <td>Black</td>\n",
       "      <td>1</td>\n",
       "      <td>0</td>\n",
       "      <td>1</td>\n",
       "      <td>1</td>\n",
       "      <td>0</td>\n",
       "      <td>1</td>\n",
       "      <td>0</td>\n",
       "      <td>0</td>\n",
       "      <td>0</td>\n",
       "      <td>0</td>\n",
       "      <td>0</td>\n",
       "      <td>0</td>\n",
       "    </tr>\n",
       "  </tbody>\n",
       "</table>\n",
       "</div>"
      ],
      "text/plain": [
       "        empi          name  gender date_of_birth  age         race vital_status date_of_death race_clean  wtloss_elixhauser  pulmcirc_elixhauser  metastatic_romano  tumor_romano  hemiplegia_romano  psychosis_elixhauser  pvd_elixhauser  electrolytes_elixhauser  coagulopathy_elixhauser  hivaids_romano  pulmonarydz_romano  chf_romano\n",
       "0  742415486    Ms.Baudoin  female    1937-08-07   77  Black-BLACK       living           NaN      Black                  1                    0                  0             1                  0                     0               0                        1                        0               0                   0           1\n",
       "1  746287608        Ms.Koo  female    1983-04-21   31  White-WHITE       living           NaN      White                  0                    0                  0             1                  0                     0               0                        1                        0               0                   0           0\n",
       "2  415900342  Ms.Shurtleff  female    1918-03-11   96  White-WHITE       living           NaN      White                  1                    0                  1             1                  1                     0               1                        1                        1               0                   0           0\n",
       "3  967071533      Ms.Mukai  female    1947-04-01   67  Black-BLACK       living           NaN      Black                  0                    0                  0             1                  0                     0               0                        0                        0               0                   0           1\n",
       "4  679830259    Ms.Haapala  female    1967-02-03   47  Black-BLACK       living           NaN      Black                  1                    0                  1             1                  0                     1               0                        0                        0               0                   0           0"
      ]
     },
     "execution_count": 9,
     "metadata": {},
     "output_type": "execute_result"
    }
   ],
   "source": [
    "dem.head()"
   ]
  },
  {
   "cell_type": "markdown",
   "metadata": {},
   "source": [
    "### Calculating Comordity Scores"
   ]
  },
  {
   "cell_type": "code",
   "execution_count": 10,
   "metadata": {
    "collapsed": false
   },
   "outputs": [],
   "source": [
    "## weight variables for each diagnosis\n",
    "\n",
    "dia['weight'] = 0\n",
    "dia['total_weight'] = 0\n",
    "dia.loc[dia['disease'] == 'metastatic_romano','weight'] = 5;\n",
    "dia.loc[dia['disease'] == 'chf_romano','weight'] = 2;\n",
    "dia.loc[dia['disease'] == 'dementia_romano','weight'] = 2;\n",
    "dia.loc[dia['disease'] == 'renal_elixhauser','weight'] = 2;\n",
    "dia.loc[dia['disease'] == 'wtloss_elixhauser','weight'] = 2\n",
    "dia.loc[dia['disease'] == 'hemiplegia_romano','weight'] = 1;\n",
    "dia.loc[dia['disease'] == 'alcohol_elixhauser','weight'] = 1;\n",
    "dia.loc[dia['disease'] == 'tumor_romano','weight'] = 1;\n",
    "dia.loc[dia['disease'] == 'arrhythmia_elixhauser','weight'] = 1;\n",
    "dia.loc[dia['disease'] == 'pulmonarydz_romano','weight'] = 1;\n",
    "dia.loc[dia['disease'] == 'coagulopathy_elixhauser','weight'] = 1;\n",
    "dia.loc[dia['disease'] == 'compdiabetes_elixhauser','weight'] = 1;\n",
    "dia.loc[dia['disease'] == 'anemia_elixhauser','weight'] = 1;\n",
    "dia.loc[dia['disease'] == 'electrolytes_elixhauser','weight'] = 1;\n",
    "dia.loc[dia['disease'] == 'liver_elixhauser','weight'] = 1;\n",
    "dia.loc[dia['disease'] == 'pvd_elixhauser','weight'] = 1;\n",
    "dia.loc[dia['disease'] == 'psychosis_elixhauser','weight'] = 1;\n",
    "dia.loc[dia['disease'] == 'pulmcirc_elixhauser','weight'] = 1;\n",
    "dia.loc[dia['disease'] == 'hivaids_romano','weight'] = -1;\n",
    "dia.loc[dia['disease'] == 'hypertension_elixhauser','weight'] = -1;"
   ]
  },
  {
   "cell_type": "code",
   "execution_count": 11,
   "metadata": {
    "collapsed": false
   },
   "outputs": [
    {
     "data": {
      "text/html": [
       "<div>\n",
       "<table border=\"1\" class=\"dataframe\">\n",
       "  <thead>\n",
       "    <tr style=\"text-align: right;\">\n",
       "      <th></th>\n",
       "      <th>empi</th>\n",
       "      <th>dia_date</th>\n",
       "      <th>dia_code</th>\n",
       "      <th>dia_name</th>\n",
       "      <th>provider</th>\n",
       "      <th>dia_flag</th>\n",
       "      <th>inpatient_outpatient</th>\n",
       "      <th>disease</th>\n",
       "      <th>weight</th>\n",
       "      <th>total_weight</th>\n",
       "    </tr>\n",
       "  </thead>\n",
       "  <tbody>\n",
       "    <tr>\n",
       "      <th>0</th>\n",
       "      <td>412857024</td>\n",
       "      <td>2012-04-01</td>\n",
       "      <td>291.2</td>\n",
       "      <td>Alcohol-induced persisting dementia</td>\n",
       "      <td>Hosseini, Ahmad, M.D.</td>\n",
       "      <td>admitting</td>\n",
       "      <td>inpatient</td>\n",
       "      <td></td>\n",
       "      <td>0</td>\n",
       "      <td>0</td>\n",
       "    </tr>\n",
       "    <tr>\n",
       "      <th>1</th>\n",
       "      <td>733570627</td>\n",
       "      <td>2011-12-07</td>\n",
       "      <td>260</td>\n",
       "      <td>Kwashiorkor</td>\n",
       "      <td>Hansen, Michael, M.D.</td>\n",
       "      <td>primary</td>\n",
       "      <td>outpatient</td>\n",
       "      <td>wtloss_elixhauser</td>\n",
       "      <td>2</td>\n",
       "      <td>0</td>\n",
       "    </tr>\n",
       "    <tr>\n",
       "      <th>2</th>\n",
       "      <td>838754425</td>\n",
       "      <td>2013-06-23</td>\n",
       "      <td>416</td>\n",
       "      <td>Chronic pulmonary heart disease</td>\n",
       "      <td>Hansen, Michael, M.D.</td>\n",
       "      <td>admitting</td>\n",
       "      <td>inpatient</td>\n",
       "      <td>pulmcirc_elixhauser</td>\n",
       "      <td>1</td>\n",
       "      <td>0</td>\n",
       "    </tr>\n",
       "    <tr>\n",
       "      <th>3</th>\n",
       "      <td>546413564</td>\n",
       "      <td>2010-12-11</td>\n",
       "      <td>729.1</td>\n",
       "      <td>Mylagia and myositis, unspecified</td>\n",
       "      <td>Dirichlet, Amir, M.D.</td>\n",
       "      <td>admitting</td>\n",
       "      <td>inpatient</td>\n",
       "      <td></td>\n",
       "      <td>0</td>\n",
       "      <td>0</td>\n",
       "    </tr>\n",
       "    <tr>\n",
       "      <th>4</th>\n",
       "      <td>452148563</td>\n",
       "      <td>2008-07-29</td>\n",
       "      <td>272.4</td>\n",
       "      <td>Other and unspecified hyperlipidemia</td>\n",
       "      <td>Armstrong, Sebastian, M.D.</td>\n",
       "      <td>NaN</td>\n",
       "      <td>outpatient</td>\n",
       "      <td></td>\n",
       "      <td>0</td>\n",
       "      <td>0</td>\n",
       "    </tr>\n",
       "  </tbody>\n",
       "</table>\n",
       "</div>"
      ],
      "text/plain": [
       "        empi    dia_date dia_code                              dia_name                    provider   dia_flag inpatient_outpatient              disease  weight  total_weight\n",
       "0  412857024  2012-04-01    291.2   Alcohol-induced persisting dementia       Hosseini, Ahmad, M.D.  admitting            inpatient                            0             0\n",
       "1  733570627  2011-12-07      260                           Kwashiorkor       Hansen, Michael, M.D.    primary           outpatient    wtloss_elixhauser       2             0\n",
       "2  838754425  2013-06-23      416       Chronic pulmonary heart disease       Hansen, Michael, M.D.  admitting            inpatient  pulmcirc_elixhauser       1             0\n",
       "3  546413564  2010-12-11    729.1     Mylagia and myositis, unspecified       Dirichlet, Amir, M.D.  admitting            inpatient                            0             0\n",
       "4  452148563  2008-07-29    272.4  Other and unspecified hyperlipidemia  Armstrong, Sebastian, M.D.        NaN           outpatient                            0             0"
      ]
     },
     "execution_count": 11,
     "metadata": {},
     "output_type": "execute_result"
    }
   ],
   "source": [
    "dia.head()"
   ]
  },
  {
   "cell_type": "code",
   "execution_count": 12,
   "metadata": {
    "collapsed": false
   },
   "outputs": [
    {
     "data": {
      "text/html": [
       "<div>\n",
       "<table border=\"1\" class=\"dataframe\">\n",
       "  <thead>\n",
       "    <tr style=\"text-align: right;\">\n",
       "      <th></th>\n",
       "      <th>empi</th>\n",
       "      <th>dia_date</th>\n",
       "      <th>dia_code</th>\n",
       "      <th>dia_name</th>\n",
       "      <th>provider</th>\n",
       "      <th>dia_flag</th>\n",
       "      <th>inpatient_outpatient</th>\n",
       "      <th>disease</th>\n",
       "      <th>weight</th>\n",
       "      <th>total_weight</th>\n",
       "    </tr>\n",
       "  </thead>\n",
       "  <tbody>\n",
       "    <tr>\n",
       "      <th>0</th>\n",
       "      <td>412857024</td>\n",
       "      <td>2012-04-01</td>\n",
       "      <td>291.2</td>\n",
       "      <td>Alcohol-induced persisting dementia</td>\n",
       "      <td>Hosseini, Ahmad, M.D.</td>\n",
       "      <td>admitting</td>\n",
       "      <td>inpatient</td>\n",
       "      <td></td>\n",
       "      <td>0</td>\n",
       "      <td>8</td>\n",
       "    </tr>\n",
       "    <tr>\n",
       "      <th>1</th>\n",
       "      <td>733570627</td>\n",
       "      <td>2011-12-07</td>\n",
       "      <td>260</td>\n",
       "      <td>Kwashiorkor</td>\n",
       "      <td>Hansen, Michael, M.D.</td>\n",
       "      <td>primary</td>\n",
       "      <td>outpatient</td>\n",
       "      <td>wtloss_elixhauser</td>\n",
       "      <td>2</td>\n",
       "      <td>4</td>\n",
       "    </tr>\n",
       "    <tr>\n",
       "      <th>2</th>\n",
       "      <td>838754425</td>\n",
       "      <td>2013-06-23</td>\n",
       "      <td>416</td>\n",
       "      <td>Chronic pulmonary heart disease</td>\n",
       "      <td>Hansen, Michael, M.D.</td>\n",
       "      <td>admitting</td>\n",
       "      <td>inpatient</td>\n",
       "      <td>pulmcirc_elixhauser</td>\n",
       "      <td>1</td>\n",
       "      <td>3</td>\n",
       "    </tr>\n",
       "    <tr>\n",
       "      <th>3</th>\n",
       "      <td>546413564</td>\n",
       "      <td>2010-12-11</td>\n",
       "      <td>729.1</td>\n",
       "      <td>Mylagia and myositis, unspecified</td>\n",
       "      <td>Dirichlet, Amir, M.D.</td>\n",
       "      <td>admitting</td>\n",
       "      <td>inpatient</td>\n",
       "      <td></td>\n",
       "      <td>0</td>\n",
       "      <td>7</td>\n",
       "    </tr>\n",
       "    <tr>\n",
       "      <th>4</th>\n",
       "      <td>452148563</td>\n",
       "      <td>2008-07-29</td>\n",
       "      <td>272.4</td>\n",
       "      <td>Other and unspecified hyperlipidemia</td>\n",
       "      <td>Armstrong, Sebastian, M.D.</td>\n",
       "      <td>NaN</td>\n",
       "      <td>outpatient</td>\n",
       "      <td></td>\n",
       "      <td>0</td>\n",
       "      <td>3</td>\n",
       "    </tr>\n",
       "  </tbody>\n",
       "</table>\n",
       "</div>"
      ],
      "text/plain": [
       "        empi    dia_date dia_code                              dia_name                    provider   dia_flag inpatient_outpatient              disease  weight  total_weight\n",
       "0  412857024  2012-04-01    291.2   Alcohol-induced persisting dementia       Hosseini, Ahmad, M.D.  admitting            inpatient                            0             8\n",
       "1  733570627  2011-12-07      260                           Kwashiorkor       Hansen, Michael, M.D.    primary           outpatient    wtloss_elixhauser       2             4\n",
       "2  838754425  2013-06-23      416       Chronic pulmonary heart disease       Hansen, Michael, M.D.  admitting            inpatient  pulmcirc_elixhauser       1             3\n",
       "3  546413564  2010-12-11    729.1     Mylagia and myositis, unspecified       Dirichlet, Amir, M.D.  admitting            inpatient                            0             7\n",
       "4  452148563  2008-07-29    272.4  Other and unspecified hyperlipidemia  Armstrong, Sebastian, M.D.        NaN           outpatient                            0             3"
      ]
     },
     "execution_count": 12,
     "metadata": {},
     "output_type": "execute_result"
    }
   ],
   "source": [
    "## calculate the total score\n",
    "grp = dia.groupby('empi')\n",
    "dia[\"total_weight\"] = grp[['weight']].transform(sum)\n",
    "dia.head()\n",
    "# dia.groupby('empi').sum()"
   ]
  },
  {
   "cell_type": "code",
   "execution_count": 13,
   "metadata": {
    "collapsed": false
   },
   "outputs": [
    {
     "data": {
      "text/html": [
       "<div>\n",
       "<table border=\"1\" class=\"dataframe\">\n",
       "  <thead>\n",
       "    <tr style=\"text-align: right;\">\n",
       "      <th></th>\n",
       "      <th>empi</th>\n",
       "      <th>name</th>\n",
       "      <th>gender</th>\n",
       "      <th>date_of_birth</th>\n",
       "      <th>age</th>\n",
       "      <th>race</th>\n",
       "      <th>vital_status</th>\n",
       "      <th>date_of_death</th>\n",
       "      <th>race_clean</th>\n",
       "      <th>wtloss_elixhauser</th>\n",
       "      <th>pulmcirc_elixhauser</th>\n",
       "      <th>metastatic_romano</th>\n",
       "      <th>tumor_romano</th>\n",
       "      <th>hemiplegia_romano</th>\n",
       "      <th>psychosis_elixhauser</th>\n",
       "      <th>pvd_elixhauser</th>\n",
       "      <th>electrolytes_elixhauser</th>\n",
       "      <th>coagulopathy_elixhauser</th>\n",
       "      <th>hivaids_romano</th>\n",
       "      <th>pulmonarydz_romano</th>\n",
       "      <th>chf_romano</th>\n",
       "      <th>weight</th>\n",
       "    </tr>\n",
       "  </thead>\n",
       "  <tbody>\n",
       "    <tr>\n",
       "      <th>0</th>\n",
       "      <td>742415486</td>\n",
       "      <td>Ms.Baudoin</td>\n",
       "      <td>female</td>\n",
       "      <td>1937-08-07</td>\n",
       "      <td>77</td>\n",
       "      <td>Black-BLACK</td>\n",
       "      <td>living</td>\n",
       "      <td>NaN</td>\n",
       "      <td>Black</td>\n",
       "      <td>1</td>\n",
       "      <td>0</td>\n",
       "      <td>0</td>\n",
       "      <td>1</td>\n",
       "      <td>0</td>\n",
       "      <td>0</td>\n",
       "      <td>0</td>\n",
       "      <td>1</td>\n",
       "      <td>0</td>\n",
       "      <td>0</td>\n",
       "      <td>0</td>\n",
       "      <td>1</td>\n",
       "      <td>8</td>\n",
       "    </tr>\n",
       "    <tr>\n",
       "      <th>1</th>\n",
       "      <td>746287608</td>\n",
       "      <td>Ms.Koo</td>\n",
       "      <td>female</td>\n",
       "      <td>1983-04-21</td>\n",
       "      <td>31</td>\n",
       "      <td>White-WHITE</td>\n",
       "      <td>living</td>\n",
       "      <td>NaN</td>\n",
       "      <td>White</td>\n",
       "      <td>0</td>\n",
       "      <td>0</td>\n",
       "      <td>0</td>\n",
       "      <td>1</td>\n",
       "      <td>0</td>\n",
       "      <td>0</td>\n",
       "      <td>0</td>\n",
       "      <td>1</td>\n",
       "      <td>0</td>\n",
       "      <td>0</td>\n",
       "      <td>0</td>\n",
       "      <td>0</td>\n",
       "      <td>4</td>\n",
       "    </tr>\n",
       "    <tr>\n",
       "      <th>2</th>\n",
       "      <td>415900342</td>\n",
       "      <td>Ms.Shurtleff</td>\n",
       "      <td>female</td>\n",
       "      <td>1918-03-11</td>\n",
       "      <td>96</td>\n",
       "      <td>White-WHITE</td>\n",
       "      <td>living</td>\n",
       "      <td>NaN</td>\n",
       "      <td>White</td>\n",
       "      <td>1</td>\n",
       "      <td>0</td>\n",
       "      <td>1</td>\n",
       "      <td>1</td>\n",
       "      <td>1</td>\n",
       "      <td>0</td>\n",
       "      <td>1</td>\n",
       "      <td>1</td>\n",
       "      <td>1</td>\n",
       "      <td>0</td>\n",
       "      <td>0</td>\n",
       "      <td>0</td>\n",
       "      <td>12</td>\n",
       "    </tr>\n",
       "    <tr>\n",
       "      <th>3</th>\n",
       "      <td>967071533</td>\n",
       "      <td>Ms.Mukai</td>\n",
       "      <td>female</td>\n",
       "      <td>1947-04-01</td>\n",
       "      <td>67</td>\n",
       "      <td>Black-BLACK</td>\n",
       "      <td>living</td>\n",
       "      <td>NaN</td>\n",
       "      <td>Black</td>\n",
       "      <td>0</td>\n",
       "      <td>0</td>\n",
       "      <td>0</td>\n",
       "      <td>1</td>\n",
       "      <td>0</td>\n",
       "      <td>0</td>\n",
       "      <td>0</td>\n",
       "      <td>0</td>\n",
       "      <td>0</td>\n",
       "      <td>0</td>\n",
       "      <td>0</td>\n",
       "      <td>1</td>\n",
       "      <td>4</td>\n",
       "    </tr>\n",
       "    <tr>\n",
       "      <th>4</th>\n",
       "      <td>679830259</td>\n",
       "      <td>Ms.Haapala</td>\n",
       "      <td>female</td>\n",
       "      <td>1967-02-03</td>\n",
       "      <td>47</td>\n",
       "      <td>Black-BLACK</td>\n",
       "      <td>living</td>\n",
       "      <td>NaN</td>\n",
       "      <td>Black</td>\n",
       "      <td>1</td>\n",
       "      <td>0</td>\n",
       "      <td>1</td>\n",
       "      <td>1</td>\n",
       "      <td>0</td>\n",
       "      <td>1</td>\n",
       "      <td>0</td>\n",
       "      <td>0</td>\n",
       "      <td>0</td>\n",
       "      <td>0</td>\n",
       "      <td>0</td>\n",
       "      <td>0</td>\n",
       "      <td>11</td>\n",
       "    </tr>\n",
       "  </tbody>\n",
       "</table>\n",
       "</div>"
      ],
      "text/plain": [
       "        empi          name  gender date_of_birth  age         race vital_status date_of_death race_clean  wtloss_elixhauser  pulmcirc_elixhauser  metastatic_romano  tumor_romano  hemiplegia_romano  psychosis_elixhauser  pvd_elixhauser  electrolytes_elixhauser  coagulopathy_elixhauser  hivaids_romano  pulmonarydz_romano  chf_romano  weight\n",
       "0  742415486    Ms.Baudoin  female    1937-08-07   77  Black-BLACK       living           NaN      Black                  1                    0                  0             1                  0                     0               0                        1                        0               0                   0           1       8\n",
       "1  746287608        Ms.Koo  female    1983-04-21   31  White-WHITE       living           NaN      White                  0                    0                  0             1                  0                     0               0                        1                        0               0                   0           0       4\n",
       "2  415900342  Ms.Shurtleff  female    1918-03-11   96  White-WHITE       living           NaN      White                  1                    0                  1             1                  1                     0               1                        1                        1               0                   0           0      12\n",
       "3  967071533      Ms.Mukai  female    1947-04-01   67  Black-BLACK       living           NaN      Black                  0                    0                  0             1                  0                     0               0                        0                        0               0                   0           1       4\n",
       "4  679830259    Ms.Haapala  female    1967-02-03   47  Black-BLACK       living           NaN      Black                  1                    0                  1             1                  0                     1               0                        0                        0               0                   0           0      11"
      ]
     },
     "execution_count": 13,
     "metadata": {},
     "output_type": "execute_result"
    }
   ],
   "source": [
    "## add total scores to demographics dataset (on patient level)\n",
    "new_dem = dem.join(dia.groupby('empi')[\"weight\"].sum(), on=['empi']) \n",
    "new_dem.head()"
   ]
  },
  {
   "cell_type": "markdown",
   "metadata": {},
   "source": [
    "### Obtaining Patient Information from Notes"
   ]
  },
  {
   "cell_type": "code",
   "execution_count": 14,
   "metadata": {
    "collapsed": false
   },
   "outputs": [],
   "source": [
    "## creating new variables for info extracted from visit notes\n",
    "\n",
    "ids=[]\n",
    "dia[\"los\"] = ''\n",
    "dia[\"bp_s\"] = ''\n",
    "dia[\"bp_d\"] = ''\n",
    "dia[\"pulse\"] = ''\n",
    "dia[\"rr\"] = ''\n",
    "dia[\"temp\"] = ''\n",
    "\n",
    "with open('data/ed_visits.txt') as input:\n",
    "    i = 0\n",
    "    empi = ''\n",
    "    visit_date = ''\n",
    "    for line in input:\n",
    "        if i == 1:\n",
    "            empi,visit_date,admit_date,discharge_date,length_of_stay,principal_dia_code,principal_dia_nam,additional_dia_code,\\\n",
    "            note_text = (item.strip() for item in line.split('$', 9))\n",
    "            ids.append(empi)\n",
    "            dia.loc[(dia[\"empi\"]==int(empi)) & (dia[\"dia_date\"]==visit_date), \"los\"] = int(length_of_stay)\n",
    "            \n",
    "        if 'PHYSICAL EXAMINATION' in line:\n",
    "            bp_s, bp_d = line[line.index('Blood pressure')+15:line.index(', pulse')].split('/')\n",
    "            dia.loc[(dia[\"empi\"]==int(empi)) & (dia[\"dia_date\"]==visit_date), \"bp_s\"] = float(bp_s)\n",
    "            dia.loc[(dia[\"empi\"]==int(empi)) & (dia[\"dia_date\"]==visit_date), \"bp_d\"] = float(bp_d)\n",
    "            dia.loc[(dia[\"empi\"]==int(empi)) & (dia[\"dia_date\"]==visit_date), \"pulse\"]\\\n",
    "            = float(line[line.index('pulse')+6:line.index(', respiratory')]) \n",
    "            dia.loc[(dia[\"empi\"]==int(empi)) & (dia[\"dia_date\"]==visit_date), \"rr\"]\\\n",
    "            = float(line[line.index('respiratory')+16:line.index(', temperature')])    \n",
    "            dia.loc[(dia[\"empi\"]==int(empi)) & (dia[\"dia_date\"]==visit_date), \"temp\"]\\\n",
    "            = float(line[line.index('temperature')+12:line.index(', and')])   \n",
    "        \n",
    "        if '[report_end]' in line:\n",
    "            i = 0\n",
    "        else:\n",
    "            i = i+1"
   ]
  },
  {
   "cell_type": "code",
   "execution_count": 15,
   "metadata": {
    "collapsed": false
   },
   "outputs": [],
   "source": [
    "## create a categorical variable for high blood pressure\n",
    "dia[\"high_bp\"] = ''"
   ]
  },
  {
   "cell_type": "code",
   "execution_count": 16,
   "metadata": {
    "collapsed": true
   },
   "outputs": [],
   "source": [
    "dia.loc[(dia[\"bp_s\"]!='')&(dia[\"bp_s\"]>140), \"high_bp\"] = 1\n",
    "dia.loc[(dia[\"bp_s\"]!='')&(dia[\"bp_s\"]<=140), \"high_bp\"] = 0"
   ]
  },
  {
   "cell_type": "code",
   "execution_count": 17,
   "metadata": {
    "collapsed": false
   },
   "outputs": [
    {
     "name": "stdout",
     "output_type": "stream",
     "text": [
      "869 863\n"
     ]
    }
   ],
   "source": [
    "## checking how many notes matched with the dia dataset\n",
    "print len(ids), len(dia[dia[\"los\"]!=''])"
   ]
  },
  {
   "cell_type": "code",
   "execution_count": 18,
   "metadata": {
    "collapsed": false
   },
   "outputs": [
    {
     "data": {
      "text/plain": [
       "343"
      ]
     },
     "execution_count": 18,
     "metadata": {},
     "output_type": "execute_result"
    }
   ],
   "source": [
    "## checking how many patients were represented in the notes\n",
    "len(dia[dia[\"los\"]!='']['empi'].unique())"
   ]
  },
  {
   "cell_type": "code",
   "execution_count": 19,
   "metadata": {
    "collapsed": true
   },
   "outputs": [],
   "source": [
    "## creating dataset for only those entries found in the notes\n",
    "matched = dia[dia[\"los\"]!='']\n",
    "matched = matched.sort('dia_date', ascending=False)"
   ]
  },
  {
   "cell_type": "code",
   "execution_count": 20,
   "metadata": {
    "collapsed": false
   },
   "outputs": [],
   "source": [
    "## get the latest diagnosis date for each patient from notes\n",
    "g = matched.groupby('empi')\n",
    "g_matched = g.first()"
   ]
  },
  {
   "cell_type": "code",
   "execution_count": 21,
   "metadata": {
    "collapsed": true
   },
   "outputs": [],
   "source": [
    "## the \"weight\" variable in new_dem gives us the most complete data on the comorbidity score\n",
    "g_matched = g_matched.drop(['weight', 'total_weight'], 1)"
   ]
  },
  {
   "cell_type": "code",
   "execution_count": 24,
   "metadata": {
    "collapsed": false
   },
   "outputs": [
    {
     "data": {
      "text/html": [
       "<div>\n",
       "<table border=\"1\" class=\"dataframe\">\n",
       "  <thead>\n",
       "    <tr style=\"text-align: right;\">\n",
       "      <th></th>\n",
       "      <th>empi</th>\n",
       "      <th>name</th>\n",
       "      <th>gender</th>\n",
       "      <th>date_of_birth</th>\n",
       "      <th>age</th>\n",
       "      <th>race</th>\n",
       "      <th>vital_status</th>\n",
       "      <th>date_of_death</th>\n",
       "      <th>race_clean</th>\n",
       "      <th>wtloss_elixhauser</th>\n",
       "      <th>pulmcirc_elixhauser</th>\n",
       "      <th>metastatic_romano</th>\n",
       "      <th>tumor_romano</th>\n",
       "      <th>hemiplegia_romano</th>\n",
       "      <th>psychosis_elixhauser</th>\n",
       "      <th>pvd_elixhauser</th>\n",
       "      <th>electrolytes_elixhauser</th>\n",
       "      <th>coagulopathy_elixhauser</th>\n",
       "      <th>hivaids_romano</th>\n",
       "      <th>pulmonarydz_romano</th>\n",
       "      <th>chf_romano</th>\n",
       "      <th>weight</th>\n",
       "      <th>dia_date</th>\n",
       "      <th>dia_code</th>\n",
       "      <th>dia_name</th>\n",
       "      <th>provider</th>\n",
       "      <th>dia_flag</th>\n",
       "      <th>inpatient_outpatient</th>\n",
       "      <th>disease</th>\n",
       "      <th>los</th>\n",
       "      <th>bp_s</th>\n",
       "      <th>bp_d</th>\n",
       "      <th>pulse</th>\n",
       "      <th>rr</th>\n",
       "      <th>temp</th>\n",
       "      <th>high_bp</th>\n",
       "    </tr>\n",
       "  </thead>\n",
       "  <tbody>\n",
       "    <tr>\n",
       "      <th>0</th>\n",
       "      <td>742415486</td>\n",
       "      <td>Ms.Baudoin</td>\n",
       "      <td>female</td>\n",
       "      <td>1937-08-07</td>\n",
       "      <td>77</td>\n",
       "      <td>Black-BLACK</td>\n",
       "      <td>living</td>\n",
       "      <td>NaN</td>\n",
       "      <td>Black</td>\n",
       "      <td>1</td>\n",
       "      <td>0</td>\n",
       "      <td>0</td>\n",
       "      <td>1</td>\n",
       "      <td>0</td>\n",
       "      <td>0</td>\n",
       "      <td>0</td>\n",
       "      <td>1</td>\n",
       "      <td>0</td>\n",
       "      <td>0</td>\n",
       "      <td>0</td>\n",
       "      <td>1</td>\n",
       "      <td>8</td>\n",
       "      <td>2014-02-20</td>\n",
       "      <td>789.06</td>\n",
       "      <td>Abdominal pain, epigastric</td>\n",
       "      <td>Hosseini, Ahmad, M.D.</td>\n",
       "      <td>primary</td>\n",
       "      <td>outpatient</td>\n",
       "      <td></td>\n",
       "      <td>130</td>\n",
       "      <td>141</td>\n",
       "      <td>94</td>\n",
       "      <td>65</td>\n",
       "      <td>13</td>\n",
       "      <td>98.6</td>\n",
       "      <td>1</td>\n",
       "    </tr>\n",
       "    <tr>\n",
       "      <th>1</th>\n",
       "      <td>746287608</td>\n",
       "      <td>Ms.Koo</td>\n",
       "      <td>female</td>\n",
       "      <td>1983-04-21</td>\n",
       "      <td>31</td>\n",
       "      <td>White-WHITE</td>\n",
       "      <td>living</td>\n",
       "      <td>NaN</td>\n",
       "      <td>White</td>\n",
       "      <td>0</td>\n",
       "      <td>0</td>\n",
       "      <td>0</td>\n",
       "      <td>1</td>\n",
       "      <td>0</td>\n",
       "      <td>0</td>\n",
       "      <td>0</td>\n",
       "      <td>1</td>\n",
       "      <td>0</td>\n",
       "      <td>0</td>\n",
       "      <td>0</td>\n",
       "      <td>0</td>\n",
       "      <td>4</td>\n",
       "      <td>NaN</td>\n",
       "      <td>NaN</td>\n",
       "      <td>NaN</td>\n",
       "      <td>NaN</td>\n",
       "      <td>NaN</td>\n",
       "      <td>NaN</td>\n",
       "      <td>NaN</td>\n",
       "      <td>NaN</td>\n",
       "      <td>NaN</td>\n",
       "      <td>NaN</td>\n",
       "      <td>NaN</td>\n",
       "      <td>NaN</td>\n",
       "      <td>NaN</td>\n",
       "      <td>NaN</td>\n",
       "    </tr>\n",
       "    <tr>\n",
       "      <th>2</th>\n",
       "      <td>415900342</td>\n",
       "      <td>Ms.Shurtleff</td>\n",
       "      <td>female</td>\n",
       "      <td>1918-03-11</td>\n",
       "      <td>96</td>\n",
       "      <td>White-WHITE</td>\n",
       "      <td>living</td>\n",
       "      <td>NaN</td>\n",
       "      <td>White</td>\n",
       "      <td>1</td>\n",
       "      <td>0</td>\n",
       "      <td>1</td>\n",
       "      <td>1</td>\n",
       "      <td>1</td>\n",
       "      <td>0</td>\n",
       "      <td>1</td>\n",
       "      <td>1</td>\n",
       "      <td>1</td>\n",
       "      <td>0</td>\n",
       "      <td>0</td>\n",
       "      <td>0</td>\n",
       "      <td>12</td>\n",
       "      <td>2013-07-08</td>\n",
       "      <td>433.11</td>\n",
       "      <td>Occlusion and stenosis of carotid artery with ...</td>\n",
       "      <td>Jameson, Jan, M.D.</td>\n",
       "      <td>admitting</td>\n",
       "      <td>outpatient</td>\n",
       "      <td></td>\n",
       "      <td>143</td>\n",
       "      <td>127</td>\n",
       "      <td>92</td>\n",
       "      <td>59</td>\n",
       "      <td>13</td>\n",
       "      <td>98.8</td>\n",
       "      <td>0</td>\n",
       "    </tr>\n",
       "    <tr>\n",
       "      <th>3</th>\n",
       "      <td>967071533</td>\n",
       "      <td>Ms.Mukai</td>\n",
       "      <td>female</td>\n",
       "      <td>1947-04-01</td>\n",
       "      <td>67</td>\n",
       "      <td>Black-BLACK</td>\n",
       "      <td>living</td>\n",
       "      <td>NaN</td>\n",
       "      <td>Black</td>\n",
       "      <td>0</td>\n",
       "      <td>0</td>\n",
       "      <td>0</td>\n",
       "      <td>1</td>\n",
       "      <td>0</td>\n",
       "      <td>0</td>\n",
       "      <td>0</td>\n",
       "      <td>0</td>\n",
       "      <td>0</td>\n",
       "      <td>0</td>\n",
       "      <td>0</td>\n",
       "      <td>1</td>\n",
       "      <td>4</td>\n",
       "      <td>2013-12-18</td>\n",
       "      <td>308.3</td>\n",
       "      <td>Other acute reactions to stress</td>\n",
       "      <td>Goldhouse, Barry, M.D.</td>\n",
       "      <td>NaN</td>\n",
       "      <td>outpatient</td>\n",
       "      <td></td>\n",
       "      <td>178</td>\n",
       "      <td>160</td>\n",
       "      <td>111</td>\n",
       "      <td>47</td>\n",
       "      <td>12</td>\n",
       "      <td>98.7</td>\n",
       "      <td>1</td>\n",
       "    </tr>\n",
       "    <tr>\n",
       "      <th>4</th>\n",
       "      <td>679830259</td>\n",
       "      <td>Ms.Haapala</td>\n",
       "      <td>female</td>\n",
       "      <td>1967-02-03</td>\n",
       "      <td>47</td>\n",
       "      <td>Black-BLACK</td>\n",
       "      <td>living</td>\n",
       "      <td>NaN</td>\n",
       "      <td>Black</td>\n",
       "      <td>1</td>\n",
       "      <td>0</td>\n",
       "      <td>1</td>\n",
       "      <td>1</td>\n",
       "      <td>0</td>\n",
       "      <td>1</td>\n",
       "      <td>0</td>\n",
       "      <td>0</td>\n",
       "      <td>0</td>\n",
       "      <td>0</td>\n",
       "      <td>0</td>\n",
       "      <td>0</td>\n",
       "      <td>11</td>\n",
       "      <td>2012-09-17</td>\n",
       "      <td>274.01</td>\n",
       "      <td>Acute gouty arthropathy</td>\n",
       "      <td>Dirichlet, Amir, M.D.</td>\n",
       "      <td>admitting</td>\n",
       "      <td>outpatient</td>\n",
       "      <td></td>\n",
       "      <td>227</td>\n",
       "      <td>164</td>\n",
       "      <td>111</td>\n",
       "      <td>56</td>\n",
       "      <td>14</td>\n",
       "      <td>98.6</td>\n",
       "      <td>1</td>\n",
       "    </tr>\n",
       "  </tbody>\n",
       "</table>\n",
       "</div>"
      ],
      "text/plain": [
       "        empi          name  gender date_of_birth  age         race vital_status date_of_death race_clean  wtloss_elixhauser  pulmcirc_elixhauser  metastatic_romano  tumor_romano  hemiplegia_romano  psychosis_elixhauser  pvd_elixhauser  electrolytes_elixhauser  coagulopathy_elixhauser  hivaids_romano  pulmonarydz_romano  chf_romano  weight    dia_date dia_code                                           dia_name                provider   dia_flag inpatient_outpatient disease  los  bp_s  bp_d  \\\n",
       "0  742415486    Ms.Baudoin  female    1937-08-07   77  Black-BLACK       living           NaN      Black                  1                    0                  0             1                  0                     0               0                        1                        0               0                   0           1       8  2014-02-20   789.06                         Abdominal pain, epigastric   Hosseini, Ahmad, M.D.    primary           outpatient          130   141    94   \n",
       "1  746287608        Ms.Koo  female    1983-04-21   31  White-WHITE       living           NaN      White                  0                    0                  0             1                  0                     0               0                        1                        0               0                   0           0       4         NaN      NaN                                                NaN                     NaN        NaN                  NaN     NaN  NaN   NaN   NaN   \n",
       "2  415900342  Ms.Shurtleff  female    1918-03-11   96  White-WHITE       living           NaN      White                  1                    0                  1             1                  1                     0               1                        1                        1               0                   0           0      12  2013-07-08   433.11  Occlusion and stenosis of carotid artery with ...      Jameson, Jan, M.D.  admitting           outpatient          143   127    92   \n",
       "3  967071533      Ms.Mukai  female    1947-04-01   67  Black-BLACK       living           NaN      Black                  0                    0                  0             1                  0                     0               0                        0                        0               0                   0           1       4  2013-12-18    308.3                    Other acute reactions to stress  Goldhouse, Barry, M.D.        NaN           outpatient          178   160   111   \n",
       "4  679830259    Ms.Haapala  female    1967-02-03   47  Black-BLACK       living           NaN      Black                  1                    0                  1             1                  0                     1               0                        0                        0               0                   0           0      11  2012-09-17   274.01                            Acute gouty arthropathy   Dirichlet, Amir, M.D.  admitting           outpatient          227   164   111   \n",
       "\n",
       "   pulse  rr  temp  high_bp  \n",
       "0     65  13  98.6        1  \n",
       "1    NaN NaN   NaN      NaN  \n",
       "2     59  13  98.8        0  \n",
       "3     47  12  98.7        1  \n",
       "4     56  14  98.6        1  "
      ]
     },
     "execution_count": 24,
     "metadata": {},
     "output_type": "execute_result"
    }
   ],
   "source": [
    "## create dataset on the patient level with more variables (from the dia dataset and notes)\n",
    "large_dem = new_dem.join(g_matched, on=['empi'])\n",
    "large_dem.head()"
   ]
  },
  {
   "cell_type": "code",
   "execution_count": 25,
   "metadata": {
    "collapsed": true
   },
   "outputs": [],
   "source": [
    "large_dem.to_csv(\"matched_dem.csv\")"
   ]
  },
  {
   "cell_type": "markdown",
   "metadata": {},
   "source": [
    "The above dataset is used in Tableau for the visualization below."
   ]
  },
  {
   "cell_type": "markdown",
   "metadata": {},
   "source": [
    "## Tableau Visualization"
   ]
  },
  {
   "cell_type": "code",
   "execution_count": 41,
   "metadata": {
    "collapsed": false,
    "scrolled": false
   },
   "outputs": [
    {
     "data": {
      "text/html": [
       "<script type='text/javascript' src='https://public.tableau.com/javascripts/api/viz_v1.js'></script>\n",
       "<div class='tableauPlaceholder' style='width: 1004px; height: 869px;'>\n",
       "    <noscript><a href='#'><img alt='Playing with Data ' src='https:&#47;&#47;public.tableau.com&#47;static&#47;images&#47;La&#47;Lab_6&#47;Story1&#47;1_rss.png' style='border: none' /></a></noscript>\n",
       "    <object class='tableauViz' width='1004' height='869' style='display:none;'><param name='host_url' value='https%3A%2F%2Fpublic.tableau.com%2F' /> <param name='site_root' value='' />\n",
       "    <param name='name' value='Lab_6&#47;Story1' /><param name='tabs' value='no' /><param name='toolbar' value='yes' /><param name='static_image' value='https:&#47;&#47;public.tableau.com&#47;static&#47;images&#47;La&#47;Lab_6&#47;Story1&#47;1.png' />\n",
       "    <param name='animate_transition' value='yes' /><param name='display_static_image' value='yes' /><param name='display_spinner' value='yes' /><param name='display_overlay' value='yes' />\n",
       "    <param name='display_count' value='yes' />\n",
       "    <param name='showTabs' value='y' /></object></div>"
      ],
      "text/plain": [
       "<IPython.core.display.HTML object>"
      ]
     },
     "metadata": {},
     "output_type": "display_data"
    }
   ],
   "source": [
    "%%html\n",
    "<script type='text/javascript' src='https://public.tableau.com/javascripts/api/viz_v1.js'></script>\n",
    "<div class='tableauPlaceholder' style='width: 1004px; height: 869px;'>\n",
    "    <noscript><a href='#'><img alt='Playing with Data ' src='https:&#47;&#47;public.tableau.com&#47;static&#47;images&#47;La&#47;Lab_6&#47;Story1&#47;1_rss.png' style='border: none' /></a></noscript>\n",
    "    <object class='tableauViz' width='1004' height='869' style='display:none;'><param name='host_url' value='https%3A%2F%2Fpublic.tableau.com%2F' /> <param name='site_root' value='' />\n",
    "    <param name='name' value='Lab_6&#47;Story1' /><param name='tabs' value='no' /><param name='toolbar' value='yes' /><param name='static_image' value='https:&#47;&#47;public.tableau.com&#47;static&#47;images&#47;La&#47;Lab_6&#47;Story1&#47;1.png' />\n",
    "    <param name='animate_transition' value='yes' /><param name='display_static_image' value='yes' /><param name='display_spinner' value='yes' /><param name='display_overlay' value='yes' />\n",
    "    <param name='display_count' value='yes' />\n",
    "    <param name='showTabs' value='y' /></object></div>"
   ]
  },
  {
   "cell_type": "markdown",
   "metadata": {},
   "source": [
    "### Part I: Demographics\n",
    "\n",
    "The demographics chart reveals that the racial/ethnic distribution of patients is similar between deceased and living populations. For instance, 74.81% of the deceased and 67.55% of the living are white, who make the majority of the patients. Absolute numbers labelled by the end of the bars show that more patients are living than deceased. The similar distributions allow for better comparisons between the deceased and living populations on other variables, such as the main diagnosis. "
   ]
  },
  {
   "cell_type": "markdown",
   "metadata": {},
   "source": [
    "### Part II: Length of Stay\n",
    "\n",
    "Graphs on the individual level showed little pattern, so I decided to group patients by the physician they last saw to see if patterns were clearer on this higher level. \n",
    "\n",
    "The length of stay variable here represent the number of days during the patient's latest stay at the hospital, as recorded by the physician notes. In most cases, hospitals/physicians and patients would like to reduce length of stay at hospitals."
   ]
  },
  {
   "cell_type": "markdown",
   "metadata": {},
   "source": [
    "##### Comorbidity Score\n",
    "\n",
    "Looking at the second graph in the Tableau Story, we observe that longer length of stay is associated with lower average patient comorbidity scores. Perhaps those who have higher comorbidity scores pass away sooner, leading to shorter lengths of stay. However, if we examine only the deceased population, we find little of the previous pattern. We can look at aggregate lengths of stay for further investigation."
   ]
  },
  {
   "cell_type": "markdown",
   "metadata": {},
   "source": [
    "##### High Blood Pressure\n",
    "\n",
    "Looking at the third graph in the Tableau Story, we note that physicians who have more patients with high blood pressure also have longer average lengths of stay. This trend may not be accurate for the whole picture as Physician I could be an outlier. Moreover, examining only the deceased population reveals the oppoite pattern; lower proportion of patients with high blood pressure is associated with longer lengths of stay. Perhaps those physicians who are able to keep their patients' blood pressures below the high blood pressure threshold also help patients live longer, leading to patients' longer stays in the hospital (possibly for other health reasons)."
   ]
  },
  {
   "cell_type": "markdown",
   "metadata": {},
   "source": [
    "Although the comorbidity scores and high blood pressure in this visualization did not help us find ways to reduce length of stay, we found interesting patterns that can inform future investigations. In addition, focusing to fill in the \"disease\" variable can help us to look at the data in more detail."
   ]
  },
  {
   "cell_type": "markdown",
   "metadata": {},
   "source": [
    "## Creating Other Datasets"
   ]
  },
  {
   "cell_type": "code",
   "execution_count": 27,
   "metadata": {
    "collapsed": true
   },
   "outputs": [],
   "source": [
    "## changing the index to make join easier later\n",
    "indexed_dem = dem.set_index(\"empi\")"
   ]
  },
  {
   "cell_type": "code",
   "execution_count": 28,
   "metadata": {
    "collapsed": true
   },
   "outputs": [],
   "source": [
    "new_dem.to_csv(\"new_dem.csv\")"
   ]
  },
  {
   "cell_type": "code",
   "execution_count": 29,
   "metadata": {
    "collapsed": false
   },
   "outputs": [],
   "source": [
    "## create dataset on diagnosis level with more (patient) variables\n",
    "large = dia.join(indexed_dem, on=['empi'])\n",
    "# large.head()"
   ]
  },
  {
   "cell_type": "code",
   "execution_count": 30,
   "metadata": {
    "collapsed": true
   },
   "outputs": [],
   "source": [
    "large.to_csv(\"large_dia.csv\")"
   ]
  },
  {
   "cell_type": "markdown",
   "metadata": {
    "collapsed": false
   },
   "source": [
    "I tried using the above dataset in Tableau but missing values of the variable \"disease\" made it difficult to analyze on the case level."
   ]
  },
  {
   "cell_type": "markdown",
   "metadata": {},
   "source": [
    "## Other Data Exploration\n",
    "\n",
    "I made these graphs (and many others not shown) in an intial brainstorming process."
   ]
  },
  {
   "cell_type": "code",
   "execution_count": 31,
   "metadata": {
    "collapsed": false
   },
   "outputs": [
    {
     "data": {
      "text/plain": [
       "<matplotlib.axes._subplots.AxesSubplot at 0x109d021d0>"
      ]
     },
     "execution_count": 31,
     "metadata": {},
     "output_type": "execute_result"
    },
    {
     "data": {
      "image/png": "[encoded data removed]",
      "text/plain": [
       "<matplotlib.figure.Figure at 0x1046a94d0>"
      ]
     },
     "metadata": {},
     "output_type": "display_data"
    }
   ],
   "source": [
    "sns.set_palette(\"Paired\")\n",
    "sns.countplot(y=\"race_clean\", hue = \"vital_status\", data=dem)"
   ]
  },
  {
   "cell_type": "code",
   "execution_count": 32,
   "metadata": {
    "collapsed": false
   },
   "outputs": [
    {
     "data": {
      "text/plain": [
       "<matplotlib.axes._subplots.AxesSubplot at 0x10a3aa0d0>"
      ]
     },
     "execution_count": 32,
     "metadata": {},
     "output_type": "execute_result"
    },
    {
     "data": {
      "image/png": "[encoded data removed]",
      "text/plain": [
       "<matplotlib.figure.Figure at 0x109d02850>"
      ]
     },
     "metadata": {},
     "output_type": "display_data"
    }
   ],
   "source": [
    "dem[\"age\"].hist(bins=20)"
   ]
  },
  {
   "cell_type": "code",
   "execution_count": 33,
   "metadata": {
    "collapsed": true
   },
   "outputs": [],
   "source": [
    "dem_living = dem[dem[\"vital_status\"] != \"deceased\"]"
   ]
  },
  {
   "cell_type": "code",
   "execution_count": 34,
   "metadata": {
    "collapsed": false
   },
   "outputs": [
    {
     "data": {
      "text/plain": [
       "<matplotlib.axes._subplots.AxesSubplot at 0x10a6cae50>"
      ]
     },
     "execution_count": 34,
     "metadata": {},
     "output_type": "execute_result"
    },
    {
     "data": {
      "image/png": "[encoded data removed]",
      "text/plain": [
       "<matplotlib.figure.Figure at 0x10a3aa090>"
      ]
     },
     "metadata": {},
     "output_type": "display_data"
    }
   ],
   "source": [
    "dem_living[\"age\"].hist(bins=20)"
   ]
  },
  {
   "cell_type": "code",
   "execution_count": 35,
   "metadata": {
    "collapsed": false
   },
   "outputs": [],
   "source": [
    "bp = large[(large[\"bp_s\"]!='')]\n",
    "# bp.head()"
   ]
  },
  {
   "cell_type": "code",
   "execution_count": 39,
   "metadata": {
    "collapsed": false
   },
   "outputs": [
    {
     "data": {
      "text/plain": [
       "<matplotlib.axes._subplots.AxesSubplot at 0x10bff0710>"
      ]
     },
     "execution_count": 39,
     "metadata": {},
     "output_type": "execute_result"
    },
    {
     "data": {
      "image/png": "[encoded data removed]",
      "text/plain": [
       "<matplotlib.figure.Figure at 0x10bcf2090>"
      ]
     },
     "metadata": {},
     "output_type": "display_data"
    }
   ],
   "source": [
    "f, ((ax1, ax2), (ax3, ax4)) = plt.subplots(2, 2, sharex='col', sharey='row')\n",
    "\n",
    "## patients seeing primary and outpatient physicians\n",
    "sns.countplot(x=\"high_bp\", hue=\"vital_status\", data= bp[(large[\"dia_flag\"] == \"primary\")\\\n",
    "                                                        &(large[\"inpatient_outpatient\"] == \"outpatient\")], ax = ax1)\n",
    "            \n",
    "## patients seeing primary and inpatient physicians\n",
    "sns.countplot(x=\"high_bp\", hue=\"vital_status\", data= bp[(large[\"dia_flag\"] == \"primary\")\\\n",
    "                                                        &(large[\"inpatient_outpatient\"] == \"inpatient\")], ax = ax2)\n",
    "\n",
    "## patients seeing primary and outpatient physicians\n",
    "sns.barplot(x=\"high_bp\", y = \"los\", hue=\"vital_status\", data= bp[(large[\"dia_flag\"] == \"primary\")\\\n",
    "                                                                 &(large[\"inpatient_outpatient\"] == \"outpatient\")], ax = ax3)\n",
    "## patients seeing primary and inpatient physicians\n",
    "sns.barplot(x=\"high_bp\", y = \"los\", hue=\"vital_status\", data= bp[(large[\"dia_flag\"] == \"primary\")\\\n",
    "                                                                 &(large[\"inpatient_outpatient\"] == \"inpatient\")], ax = ax4)\n"
   ]
  },
  {
   "cell_type": "code",
   "execution_count": 37,
   "metadata": {
    "collapsed": false
   },
   "outputs": [
    {
     "data": {
      "text/plain": [
       "<matplotlib.axes._subplots.AxesSubplot at 0x10aad2590>"
      ]
     },
     "execution_count": 37,
     "metadata": {},
     "output_type": "execute_result"
    },
    {
     "data": {
      "image/png": "[encoded data removed]",
      "text/plain": [
       "<matplotlib.figure.Figure at 0x10aa714d0>"
      ]
     },
     "metadata": {},
     "output_type": "display_data"
    }
   ],
   "source": [
    "sns.barplot(x=\"high_bp\", y = \"los\", hue=\"vital_status\", data= bp)\n",
    "# sns.barplot(x=\"gender\", y = None, data= dem)"
   ]
  }
 ],
 "metadata": {
  "kernelspec": {
   "display_name": "Python 2",
   "language": "python",
   "name": "python2"
  },
  "language_info": {
   "codemirror_mode": {
    "name": "ipython",
    "version": 2
   },
   "file_extension": ".py",
   "mimetype": "text/x-python",
   "name": "python",
   "nbconvert_exporter": "python",
   "pygments_lexer": "ipython2",
   "version": "2.7.10"
  }
 },
 "nbformat": 4,
 "nbformat_minor": 0
}
